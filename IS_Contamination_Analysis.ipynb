{
 "cells": [
  {
   "cell_type": "code",
   "execution_count": 4,
   "metadata": {},
   "outputs": [],
   "source": [
    "from matplotlib import pyplot as plt\n",
    "import numpy as np\n",
    "import pandas as pd\n",
    "import rootpy\n",
    "import scipy\n",
    "\n",
    "from FluorSpec.PTI_Data import PTI_Data"
   ]
  },
  {
   "cell_type": "code",
   "execution_count": 19,
   "metadata": {},
   "outputs": [
    {
     "name": "stdout",
     "output_type": "stream",
     "text": [
      "Initializing PTI_Data at Tue Jun 13 16:59:33 2017\n",
      "<FluorSpec.PTI_Data.PTI_Data instance at 0x7ff126439638>\n"
     ]
    }
   ],
   "source": [
    "file_names = [\"Noah/Integrating Sphere Tests for PPO Contamination/EmissionScan_NoCuvette_300_290-450_0point5nm_2sec_FS_20170613_1138.txt\"]\n",
    "\n",
    "fs_data = PTI_Data(file_names[0])\n",
    "print fs_data"
   ]
  },
  {
   "cell_type": "code",
   "execution_count": null,
   "metadata": {
    "collapsed": true
   },
   "outputs": [],
   "source": []
  }
 ],
 "metadata": {
  "kernelspec": {
   "display_name": "Python 2",
   "language": "python",
   "name": "python2"
  },
  "language_info": {
   "codemirror_mode": {
    "name": "ipython",
    "version": 2
   },
   "file_extension": ".py",
   "mimetype": "text/x-python",
   "name": "python",
   "nbconvert_exporter": "python",
   "pygments_lexer": "ipython2",
   "version": "2.7.13"
  }
 },
 "nbformat": 4,
 "nbformat_minor": 2
}
